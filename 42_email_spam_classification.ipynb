{
  "nbformat": 4,
  "nbformat_minor": 0,
  "metadata": {
    "colab": {
      "name": "42_email_spam_classification.ipynb",
      "version": "0.3.2",
      "provenance": [],
      "machine_shape": "hm",
      "include_colab_link": true
    },
    "kernelspec": {
      "name": "python3",
      "display_name": "Python 3"
    }
  },
  "cells": [
    {
      "cell_type": "markdown",
      "metadata": {
        "id": "view-in-github",
        "colab_type": "text"
      },
      "source": [
        "<a href=\"https://colab.research.google.com/github/nidhin-koshy/ML_AI_IISc/blob/master/42_email_spam_classification.ipynb\" target=\"_parent\"><img src=\"https://colab.research.google.com/assets/colab-badge.svg\" alt=\"Open In Colab\"/></a>"
      ]
    },
    {
      "cell_type": "markdown",
      "metadata": {
        "id": "m67bQjjTxv-v",
        "colab_type": "text"
      },
      "source": [
        "# Email Spam Classification\n",
        "\n",
        "In this module we will attempt to classify emails as a spam email or not. We will use the email dataset available at: http://nlp.cs.aueb.gr/software_and_datasets/Enron-Spam/index.html"
      ]
    },
    {
      "cell_type": "code",
      "metadata": {
        "id": "L1UDeXkUxqiO",
        "colab_type": "code",
        "colab": {}
      },
      "source": [
        "import numpy as np\n",
        "import pandas as pd\n",
        "import seaborn as sns\n",
        "import matplotlib.pyplot as plt\n",
        "import os\n",
        "#import nltk\n",
        "#nltk.download('punkt')"
      ],
      "execution_count": 0,
      "outputs": []
    },
    {
      "cell_type": "code",
      "metadata": {
        "id": "RGNep05zyfAS",
        "colab_type": "code",
        "outputId": "84d4c0d1-9e0d-48e9-bfa6-d8717f906e03",
        "colab": {
          "base_uri": "https://localhost:8080/",
          "height": 255
        }
      },
      "source": [
        "folder_list = ['enron1','enron2','enron3','enron4','enron5','enron6'] # The data are present in 6 folders. We will look at just the first two as this notebook takes a lot of memory and crashes if we try to use all the 6 files.\n",
        "for folder in folder_list:\n",
        "  \n",
        "  os.system(\"wget -N 'http://nlp.cs.aueb.gr/software_and_datasets/Enron-Spam/preprocessed/\" +folder + \".tar.gz'\")\n",
        "  os.system(\"tar -xzf \"+folder+\".tar.gz\")\n",
        "! ls -l"
      ],
      "execution_count": 2,
      "outputs": [
        {
          "output_type": "stream",
          "text": [
            "total 16980\n",
            "drwx------ 4 1006  513    4096 May 15  2006 enron1\n",
            "-rw-r--r-- 1 root root 1802573 Sep 14  2013 enron1.tar.gz\n",
            "drwx------ 4 1006  513    4096 May 15  2006 enron2\n",
            "-rw-r--r-- 1 root root 2905627 Sep 14  2013 enron2.tar.gz\n",
            "drwx------ 4 1006  513    4096 May 15  2006 enron3\n",
            "-rw-r--r-- 1 root root 4569634 Sep 14  2013 enron3.tar.gz\n",
            "drwx------ 4 1006  513    4096 May 15  2006 enron4\n",
            "-rw-r--r-- 1 root root 2533019 Sep 14  2013 enron4.tar.gz\n",
            "drwx------ 4 1006  513    4096 May 15  2006 enron5\n",
            "-rw-r--r-- 1 root root 2396886 Sep 14  2013 enron5.tar.gz\n",
            "drwx------ 4 1006  513    4096 May 15  2006 enron6\n",
            "-rw-r--r-- 1 root root 3137204 Sep 14  2013 enron6.tar.gz\n",
            "drwxr-xr-x 1 root root    4096 Jul 30 16:17 sample_data\n"
          ],
          "name": "stdout"
        }
      ]
    },
    {
      "cell_type": "code",
      "metadata": {
        "id": "V2R9qvdMzUHf",
        "colab_type": "code",
        "outputId": "0c28b690-e308-4856-bf3c-907499a4e471",
        "colab": {
          "base_uri": "https://localhost:8080/",
          "height": 374
        }
      },
      "source": [
        "! cat enron1/Summary.txt"
      ],
      "execution_count": 3,
      "outputs": [
        {
          "output_type": "stream",
          "text": [
            "Legitimate\r\n",
            "----------\r\n",
            "- Owner: farmer-d\r\n",
            "- Total number: 3672 emails\r\n",
            "- Date of first email: 1999-12-10\r\n",
            "- Date of last email: 2002-01-11\r\n",
            "- Similars deletion: No\r\n",
            "- Encoding: No\r\n",
            "\r\n",
            "\r\n",
            "Spam\r\n",
            "----\r\n",
            "- Owner: GP\r\n",
            "- Total number: 1500 emails\r\n",
            "- Date of first email: 2003-12-18\r\n",
            "- Date of last email: 2005-09-06\r\n",
            "- Similars deletion: No\r\n",
            "- Encoding: No\r\n",
            "\r\n",
            "Spam:Legitimate rate = 1:3\r\n",
            "Total number of emails (legitimate + spam): 5975\r\n"
          ],
          "name": "stdout"
        }
      ]
    },
    {
      "cell_type": "code",
      "metadata": {
        "id": "d2Vl_0LPzf0C",
        "colab_type": "code",
        "colab": {}
      },
      "source": [
        "\n",
        "token_ham_list=[]\n",
        "document_ham_list =[]\n",
        "token_spam_list =[]\n",
        "document_spam_list=[]\n",
        "\n",
        "for folder in folder_list:\n",
        "  \n",
        "\n",
        "  directory='enron1/ham' # emails which are non-spam\n",
        "  for filename in os.listdir(directory):\n",
        "      if filename.endswith(\".txt\"):\n",
        "          filename_complete = os.path.join(directory, filename) #full filename with directory path\n",
        "          #print(os.path.join(directory, filename))\n",
        "          file_content = open(filename_complete).read() # open the file and read the contents\n",
        "          #token_ham_list.append(nltk.word_tokenize(file_content))\n",
        "          document_ham_list.append(file_content) # append the file contents as an element to a list.\n",
        "          continue\n",
        "      else:\n",
        "          continue\n",
        "\n",
        "\n",
        "\n",
        "  directory='enron1/spam' # emails which are spam\n",
        "  for filename in os.listdir(directory):\n",
        "      if filename.endswith(\".txt\"):\n",
        "          filename_complete = os.path.join(directory, filename)\n",
        "          #print(os.path.join(directory, filename))\n",
        "          file_content = open(filename_complete,encoding='latin-1').read()\n",
        "          #token_spam_list.append(nltk.word_tokenize(file_content))\n",
        "          document_spam_list.append(file_content)\n",
        "          continue\n",
        "      else:\n",
        "          continue       "
      ],
      "execution_count": 0,
      "outputs": []
    },
    {
      "cell_type": "code",
      "metadata": {
        "id": "xNBEpNXMI0q5",
        "colab_type": "code",
        "colab": {}
      },
      "source": [
        "from sklearn.feature_extraction.text import CountVectorizer\n",
        "document_list = np.concatenate((document_ham_list,document_spam_list),axis=0) # concatenate the non-spam and spam contents\n",
        "#print(document_list[:10])\n",
        "#print(document_list[-10:])\n",
        "vectorizer = CountVectorizer(max_features=1000) # Initialise the word count extractor and restrict the number of features to 1000\n",
        "word_count_array = vectorizer.fit_transform(document_list) # vectorizes the text content as word count vector\n",
        "word_count_array = word_count_array.toarray() #convert the vectorized data as an array. This will be a very very sparse matrix"
      ],
      "execution_count": 0,
      "outputs": []
    },
    {
      "cell_type": "code",
      "metadata": {
        "id": "uwyUJG9dOQ4W",
        "colab_type": "code",
        "outputId": "21257634-a4c7-49ca-aacf-bacd5a2ba3c1",
        "colab": {
          "base_uri": "https://localhost:8080/",
          "height": 428
        }
      },
      "source": [
        "print(\"features = \", vectorizer.get_feature_names()) # prints the word dictionary\n",
        "print(\"length of feature vector = \", len(vectorizer.get_feature_names())) # prints the length of the word dictionary\n",
        "print(\"word_count_array = \", word_count_array[:10,:50])\n",
        "print(\"word_count_array_shape = \",word_count_array.shape ) # prints the shape of the word count matrix"
      ],
      "execution_count": 6,
      "outputs": [
        {
          "output_type": "stream",
          "text": [
            "features =  ['00', '000', '01', '02', '03', '04', '05', '06', '07', '08', '09', '10', '100', '11', '12', '120', '13', '14', '15', '16', '161', '17', '18', '19', '1999', '20', '200', '2000', '2001', '2003', '2004', '21', '22', '23', '24', '25', '26', '27', '28', '281', '29', '30', '300', '31', '32', '33', '34', '35', '36', '37', '38', '39', '40', '42', '44', '45', '47', '48', '49', '50', '500', '52', '53', '54', '55', '56', '58', '59', '60', '63', '6353', '69', '70', '713', '75', '80', '800', '830', '85', '90', '95', '98', '99', 'able', 'about', 'above', 'access', 'account', 'accounting', 'act', 'action', 'activity', 'acton', 'actual', 'actuals', 'add', 'added', 'addition', 'additional', 'address', 'adobe', 'advice', 'advise', 'aep', 'after', 'afternoon', 'again', 'agree', 'agreement', 'aimee', 'al', 'albrecht', 'align', 'all', 'allen', 'allocated', 'allocation', 'already', 'also', 'always', 'am', 'america', 'ami', 'amount', 'an', 'and', 'anita', 'another', 'any', 'anyone', 'anything', 'aol', 'application', 'approval', 'approximately', 'april', 'are', 'area', 'around', 'as', 'ask', 'at', 'attached', 'august', 'available', 'back', 'bank', 'base', 'based', 'basis', 'baumbach', 'be', 'beaumont', 'because', 'been', 'before', 'beginning', 'being', 'believe', 'below', 'best', 'better', 'between', 'bgcolor', 'big', 'bill', 'bob', 'book', 'border', 'both', 'box', 'br', 'brenda', 'brian', 'bryan', 'business', 'but', 'buy', 'buyback', 'by', 'call', 'called', 'calpine', 'camp', 'can', 'canada', 'cannot', 'capital', 'carlos', 'carthage', 'case', 'cash', 'cause', 'cc', 'cd', 'cec', 'center', 'central', 'ces', 'change', 'changed', 'changes', 'charge', 'charlie', 'check', 'cheryl', 'china', 'chokshi', 'cialis', 'city', 'clear', 'cleburne', 'clem', 'click', 'close', 'clynes', 'co', 'coastal', 'code', 'color', 'com', 'come', 'coming', 'commercial', 'companies', 'company', 'complete', 'completed', 'computer', 'computron', 'confirm', 'confirmed', 'contact', 'content', 'continue', 'contract', 'contracts', 'control', 'copy', 'cornhusker', 'corp', 'corporation', 'correct', 'cost', 'costs', 'cotten', 'cotton', 'could', 'counterparty', 'country', 'cover', 'create', 'created', 'credit', 'current', 'currently', 'customer', 'customers', 'cut', 'cynthia', 'daily', 'daren', 'darren', 'data', 'date', 'dave', 'david', 'day', 'days', 'de', 'deal', 'deals', 'dec', 'december', 'deliveries', 'delivery', 'demand', 'department', 'desk', 'details', 'development', 'devon', 'dfarmer', 'did', 'different', 'direct', 'do', 'doc', 'does', 'doing', 'dollars', 'don', 'donald', 'done', 'donna', 'dow', 'down', 'download', 'drive', 'due', 'duke', 'during', 'dy', 'each', 'east', 'eastrans', 'easy', 'ect', 'edward', 'ees', 'effective', 'either', 'el', 'else', 'email', 'employees', 'ena', 'end', 'energy', 'enron', 'enronxgate', 'enter', 'entered', 'entex', 'eol', 'equistar', 'error', 'estimate', 'estimates', 'etc', 'even', 'events', 'ever', 'every', 'everyone', 'everything', 'exchange', 'expect', 'expectations', 'expected', 'exploration', 'extend', 'extended', 'exxon', 'face', 'fact', 'family', 'farmer', 'fax', 'feb', 'february', 'fee', 'feedback', 'feel', 'few', 'field', 'file', 'fill', 'final', 'financial', 'find', 'firm', 'first', 'flash', 'flow', 'flowed', 'follow', 'following', 'follows', 'font', 'for', 'form', 'forward', 'forwarded', 'found', 'fred', 'free', 'friday', 'from', 'fuel', 'fuels', 'full', 'further', 'future', 'fw', 'fyi', 'gary', 'gas', 'gathering', 'gco', 'gcs', 'general', 'george', 'get', 'getting', 'give', 'given', 'global', 'go', 'going', 'good', 'got', 'graves', 'great', 'group', 'growth', 'had', 'handle', 'hanks', 'has', 'have', 'having', 'he', 'health', 'height', 'help', 'her', 'here', 'herod', 'hesse', 'hi', 'high', 'him', 'his', 'home', 'hope', 'hotmail', 'hou', 'hours', 'houston', 'how', 'howard', 'however', 'hpl', 'hplc', 'hplnl', 'hplno', 'hplo', 'href', 'hsc', 'html', 'http', 'ic', 'id', 'if', 'iferc', 'im', 'image', 'imbalance', 'impact', 'important', 'in', 'inc', 'include', 'included', 'including', 'increase', 'index', 'industrial', 'industry', 'info', 'information', 'intended', 'interest', 'interested', 'international', 'internet', 'into', 'investing', 'investment', 'invoice', 'is', 'issue', 'issues', 'it', 'items', 'its', 'iv', 'jackie', 'james', 'jan', 'janet', 'january', 'jeff', 'jennifer', 'jim', 'john', 'jones', 'julie', 'july', 'june', 'just', 'karen', 'katherine', 'katy', 'keep', 'ken', 'know', 'koch', 'lamphier', 'lannou', 'last', 'late', 'latest', 'lauri', 'lee', 'left', 'legal', 'less', 'let', 'letter', 'life', 'like', 'limited', 'line', 'link', 'lisa', 'list', 'listed', 'little', 'liz', 'll', 'lloyd', 'location', 'logistics', 'london', 'long', 'longer', 'look', 'looking', 'loss', 'love', 'low', 'lp', 'ls', 'lsk', 'lsp', 'lst', 'ltd', 'luong', 'made', 'mail', 'mailto', 'major', 'make', 'man', 'management', 'manager', 'many', 'march', 'mark', 'market', 'marketing', 'mary', 'material', 'may', 'me', 'meds', 'meet', 'meeting', 'megan', 'melissa', 'message', 'meter', 'meters', 'methanol', 'meyers', 'mg', 'michael', 'microsoft', 'mid', 'midcon', 'might', 'mike', 'million', 'mmbtu', 'mobil', 'mobile', 'monday', 'money', 'month', 'monthly', 'months', 'more', 'morning', 'most', 'move', 'ms', 'much', 'must', 'my', 'na', 'name', 'natural', 'nbsp', 'nd', 'neal', 'necessary', 'need', 'needed', 'needs', 'net', 'never', 'new', 'news', 'newsletter', 'next', 'night', 'no', 'nom', 'nominated', 'nomination', 'nominations', 'noms', 'north', 'not', 'note', 'notice', 'november', 'now', 'number', 'numbers', 'oasis', 'october', 'of', 'off', 'offer', 'offers', 'office', 'oil', 'old', 'on', 'once', 'one', 'online', 'only', 'oo', 'open', 'operating', 'operations', 'option', 'options', 'or', 'order', 'orders', 'original', 'other', 'our', 'out', 'over', 'own', 'page', 'paid', 'paliourg', 'papayoti', 'parker', 'part', 'party', 'past', 'pat', 'path', 'pay', 'payment', 'pec', 'pefs', 'people', 'per', 'performance', 'period', 'person', 'personal', 'pg', 'phone', 'php', 'physical', 'pills', 'pipe', 'pipeline', 'place', 'plan', 'plant', 'please', 'pm', 'point', 'poorman', 'pops', 'portfolio', 'position', 'possible', 'potential', 'power', 'prescription', 'president', 'price', 'priced', 'prices', 'pricing', 'prior', 'private', 'pro', 'probably', 'problem', 'problems', 'process', 'producer', 'product', 'production', 'products', 'professional', 'program', 'project', 'provide', 'provided', 'pt', 'public', 'purchase', 'put', 'quality', 'question', 'questions', 'ranch', 'rate', 'rates', 'ray', 'rd', 're', 'read', 'ready', 'real', 'really', 'reason', 'receipt', 'receive', 'received', 'redeliveries', 'regarding', 'regards', 'registered', 'reinhardt', 'related', 'release', 'remember', 'remove', 'removed', 'reply', 'report', 'reports', 'request', 'requested', 'required', 'requirements', 'resources', 'response', 'results', 'retail', 'return', 'review', 'revised', 'revision', 'richard', 'right', 'risk', 'rita', 'robert', 'rodriguez', 'run', 'said', 'sale', 'sales', 'same', 'save', 'schedule', 'scheduled', 'scheduling', 'schumack', 'scott', 'second', 'section', 'securities', 'security', 'see', 'sell', 'send', 'sent', 'sept', 'september', 'server', 'service', 'services', 'set', 'several', 'shares', 'she', 'sherlyn', 'shipping', 'should', 'show', 'shows', 'shut', 'side', 'since', 'sitara', 'site', 'size', 'small', 'smith', 'so', 'soft', 'software', 'some', 'someone', 'something', 'soon', 'sorry', 'south', 'special', 'spot', 'spreadsheet', 'src', 'st', 'stacey', 'stack', 'star', 'start', 'state', 'statements', 'states', 'status', 'stephanie', 'steve', 'still', 'stock', 'stocks', 'stone', 'stop', 'storage', 'strong', 'style', 'subject', 'such', 'suite', 'supply', 'support', 'sure', 'survey', 'susan', 'swing', 'system', 'systems', 'take', 'talk', 'tap', 'tax', 'taylor', 'td', 'team', 'technology', 'teco', 'tell', 'tenaska', 'term', 'terms', 'tess', 'texas', 'text', 'th', 'than', 'thank', 'thanks', 'that', 'the', 'their', 'them', 'then', 'there', 'therefore', 'these', 'they', 'things', 'think', 'third', 'this', 'thomas', 'those', 'thought', 'three', 'through', 'thru', 'thu', 'thursday', 'ticket', 'tickets', 'time', 'times', 'to', 'today', 'together', 'tom', 'tomorrow', 'too', 'top', 'total', 'tr', 'trade', 'trading', 'training', 'transaction', 'transfer', 'transport', 'try', 'tu', 'tuesday', 'two', 'tx', 'txu', 'type', 'under', 'unify', 'union', 'unit', 'united', 'unsubscribe', 'until', 'up', 'update', 'updated', 'us', 'usa', 'use', 'used', 'user', 'using', 'utilities', 'valero', 'valid', 'valley', 'value', 'vance', 've', 'version', 'very', 'via', 'viagra', 'victor', 'view', 'visit', 'vlt', 'voip', 'volume', 'volumes', 'waha', 'want', 'wanted', 'was', 'watch', 'way', 'we', 'web', 'website', 'wednesday', 'week', 'weekend', 'weeks', 'weissman', 'well', 'wellhead', 'were', 'what', 'when', 'where', 'which', 'while', 'who', 'why', 'width', 'will', 'windows', 'wish', 'with', 'within', 'without', 'work', 'working', 'works', 'world', 'would', 'write', 'www', 'wynne', 'xls', 'xp', 'yahoo', 'year', 'years', 'yet', 'you', 'young', 'your', 'zero', 'zone']\n",
            "length of feature vector =  1000\n",
            "word_count_array =  [[0 3 0 0 0 0 0 0 0 0 0 1 0 0 0 0 0 0 0 0 0 0 0 0 0 1 0 1 0 0 0 0 0 0 0 0\n",
            "  0 0 0 0 0 1 0 0 0 0 0 0 0 0]\n",
            " [0 1 0 0 1 1 0 0 0 0 0 3 0 1 0 0 0 0 0 1 0 0 0 0 0 0 0 2 0 0 0 0 0 0 0 0\n",
            "  0 0 0 0 0 0 0 0 0 0 0 0 0 0]\n",
            " [0 5 0 0 0 0 0 0 0 0 0 0 0 0 0 0 0 0 0 0 0 0 0 0 0 0 0 2 0 0 0 0 0 2 0 0\n",
            "  0 0 0 0 0 0 0 0 0 0 0 0 0 0]\n",
            " [0 0 0 0 0 1 0 2 0 1 0 0 0 0 0 0 0 0 0 0 0 0 0 0 0 0 0 5 0 0 0 0 0 0 0 0\n",
            "  1 1 1 0 0 0 0 0 0 0 0 0 0 0]\n",
            " [0 0 0 0 0 0 0 0 0 0 0 0 0 0 0 0 0 0 0 0 0 0 0 0 0 0 0 0 0 0 0 0 0 0 0 0\n",
            "  0 0 0 0 0 0 0 0 0 0 0 0 0 0]\n",
            " [0 0 0 0 0 0 0 0 0 0 0 0 0 0 0 0 0 0 0 0 0 0 0 0 0 0 0 0 0 0 0 0 0 0 0 0\n",
            "  0 0 0 0 0 0 0 0 0 0 0 0 0 0]\n",
            " [0 0 0 0 0 0 0 0 0 0 0 0 0 0 0 0 0 0 0 0 0 0 0 0 0 0 0 0 0 0 0 0 0 0 0 0\n",
            "  0 0 0 0 0 0 0 0 0 0 0 0 0 0]\n",
            " [0 0 2 0 0 0 0 0 0 0 0 0 0 1 0 0 0 0 0 0 0 0 0 0 0 0 0 0 0 0 0 0 0 0 0 0\n",
            "  0 0 0 0 0 0 0 0 0 0 0 0 0 0]\n",
            " [0 0 0 0 0 0 0 0 0 0 0 0 0 0 0 0 0 0 0 0 0 0 0 0 0 0 0 0 0 0 0 0 0 0 0 0\n",
            "  0 0 0 0 0 0 0 0 0 0 0 0 0 0]\n",
            " [3 1 0 0 0 0 0 0 0 0 0 0 0 2 6 0 0 0 0 1 0 0 0 0 0 0 0 1 0 0 0 0 0 0 0 0\n",
            "  0 0 0 0 0 0 0 0 1 0 0 0 0 0]]\n",
            "word_count_array_shape =  (31032, 1000)\n"
          ],
          "name": "stdout"
        }
      ]
    },
    {
      "cell_type": "code",
      "metadata": {
        "id": "lKB4608pQ9MB",
        "colab_type": "code",
        "outputId": "a139a444-f840-4a86-84aa-af98d50afc52",
        "colab": {
          "base_uri": "https://localhost:8080/",
          "height": 34
        }
      },
      "source": [
        "ham_len = len(document_ham_list) # number of non-spam emails\n",
        "spam_len=len(document_spam_list) # number of spam emails\n",
        "print(\"ham_len = \", ham_len, \". spam_len = \",spam_len)"
      ],
      "execution_count": 7,
      "outputs": [
        {
          "output_type": "stream",
          "text": [
            "ham_len =  22032 . spam_len =  9000\n"
          ],
          "name": "stdout"
        }
      ]
    },
    {
      "cell_type": "code",
      "metadata": {
        "id": "z6kU3A6WRMaH",
        "colab_type": "code",
        "outputId": "efb890a2-63ab-414e-bac2-39ab9278a924",
        "colab": {
          "base_uri": "https://localhost:8080/",
          "height": 190
        }
      },
      "source": [
        "labels = np.concatenate((np.zeros((ham_len,1)),np.ones((spam_len,1))),axis=0) # generate the label vector\n",
        "\n",
        "from sklearn.linear_model import LogisticRegression\n",
        "from sklearn.tree import DecisionTreeClassifier\n",
        "from sklearn import tree\n",
        "from sklearn.model_selection import train_test_split\n",
        "from sklearn.metrics import confusion_matrix\n",
        "\n",
        "plt.figure(figsize=(10,10))\n",
        "x_train, x_test, y_train, y_test = train_test_split(word_count_array, labels, test_size=0.4,random_state=42) # randomly split the data into training and test samples. 0.4 fraction is set aside for testing and 0.6 is used for training\n",
        "log_reg = LogisticRegression() #DecisionTreeClassifier(max_depth=4)\n",
        "log_reg.fit(x_train,y_train)\n",
        "#tree.plot_tree(log_reg.fit(x_train,y_train),feature_names=vectorizer.get_feature_names(),class_names=['non-spam','spam'])\n",
        "\n",
        "print(\"Classification score = \", log_reg.score(x_test,y_test)) #Works for all classifiers\n",
        "\n",
        "y_predict = log_reg.predict(x_test)\n",
        "confu_matrix = confusion_matrix(y_test,y_predict) # obtain the confusion matrix\n",
        "print(\"Confusion Matrix = \\n\", confu_matrix)\n"
      ],
      "execution_count": 8,
      "outputs": [
        {
          "output_type": "stream",
          "text": [
            "/usr/local/lib/python3.6/dist-packages/sklearn/linear_model/logistic.py:432: FutureWarning: Default solver will be changed to 'lbfgs' in 0.22. Specify a solver to silence this warning.\n",
            "  FutureWarning)\n",
            "/usr/local/lib/python3.6/dist-packages/sklearn/utils/validation.py:724: DataConversionWarning: A column-vector y was passed when a 1d array was expected. Please change the shape of y to (n_samples, ), for example using ravel().\n",
            "  y = column_or_1d(y, warn=True)\n"
          ],
          "name": "stderr"
        },
        {
          "output_type": "stream",
          "text": [
            "Classification score =  0.9964553290904696\n",
            "Confusion Matrix = \n",
            " [[8810   36]\n",
            " [   8 3559]]\n"
          ],
          "name": "stdout"
        },
        {
          "output_type": "display_data",
          "data": {
            "text/plain": [
              "<Figure size 720x720 with 0 Axes>"
            ]
          },
          "metadata": {
            "tags": []
          }
        }
      ]
    }
  ]
}