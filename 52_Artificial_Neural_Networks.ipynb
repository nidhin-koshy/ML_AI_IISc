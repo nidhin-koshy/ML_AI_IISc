{
  "nbformat": 4,
  "nbformat_minor": 0,
  "metadata": {
    "colab": {
      "name": "52_Artificial Neural Networks.ipynb",
      "version": "0.3.2",
      "provenance": [],
      "include_colab_link": true
    },
    "kernelspec": {
      "name": "python3",
      "display_name": "Python 3"
    }
  },
  "cells": [
    {
      "cell_type": "markdown",
      "metadata": {
        "id": "view-in-github",
        "colab_type": "text"
      },
      "source": [
        "<a href=\"https://colab.research.google.com/github/nidhin-koshy/ML_AI_IISc/blob/master/52_Artificial_Neural_Networks.ipynb\" target=\"_parent\"><img src=\"https://colab.research.google.com/assets/colab-badge.svg\" alt=\"Open In Colab\"/></a>"
      ]
    },
    {
      "cell_type": "markdown",
      "metadata": {
        "id": "IKxv0Dkudkrd",
        "colab_type": "text"
      },
      "source": [
        "# Artificial Neural Networks\n",
        "\n",
        "In this module we will look at two artificial neural networks (ANN) for classifying three different image datasets. We will see that two grayscale image datasets (MNIST, Fashion-MNIST) can be classified with very high accuracy using a simple 3-layer neural network. However, for the third satellite image dataset (Eurosat), the simple 3-layer network is not sufficient. We will see that a more complex network significantly improves the performance.\n",
        "\n"
      ]
    },
    {
      "cell_type": "markdown",
      "metadata": {
        "id": "GXVh3Rwxyw7o",
        "colab_type": "text"
      },
      "source": [
        "## MNIST image classification\n",
        "\n",
        "In this section we will use a simple artifical neural network (ANN) to classify the MNIST dataset. We already tried to classify this dataset using logistic regression and SVM classifier. SVM already gave an accuracy of 0.95. We will see that the below given ANN is able to improve the performance, albeit marginally.\n",
        "\n",
        "The particular ANN network was taken from Tensorflow tutorial page : https://www.tensorflow.org/tutorials"
      ]
    },
    {
      "cell_type": "code",
      "metadata": {
        "id": "39Mxg8vachaQ",
        "colab_type": "code",
        "colab": {
          "base_uri": "https://localhost:8080/",
          "height": 320
        },
        "outputId": "f501ca09-10b4-46f5-c174-b25515807f08"
      },
      "source": [
        "import tensorflow as tf #import tensorflow. Tensorflow is a module developed by Google, particularly for implementing deep neural netowrks.\n",
        "import matplotlib.pyplot as plt\n",
        "mnist = tf.keras.datasets.mnist # Keras is a set of deep learning APIs that tries to provide a unified API interface for deep learning.\n",
        "# Load the MNIST dataset using the inbuilt functionality available in keras.\n",
        "\n",
        "(x_train, y_train),(x_test, y_test) = mnist.load_data()\n",
        "x_train, x_test = x_train / 255.0, x_test / 255.0\n",
        "\n",
        "\n",
        "print(\"Training set size = \", x_train.shape)\n",
        "print(\"Test set size = \", x_test.shape)\n",
        "index = 1\n",
        "plt.imshow(x_train[index],cmap='gray')"
      ],
      "execution_count": 1,
      "outputs": [
        {
          "output_type": "stream",
          "text": [
            "Training set size =  (60000, 28, 28)\n",
            "Test set size =  (10000, 28, 28)\n"
          ],
          "name": "stdout"
        },
        {
          "output_type": "execute_result",
          "data": {
            "text/plain": [
              "<matplotlib.image.AxesImage at 0x7fd23524eb38>"
            ]
          },
          "metadata": {
            "tags": []
          },
          "execution_count": 1
        },
        {
          "output_type": "display_data",
          "data": {
            "image/png": "[encoded data removed]",
            "text/plain": [
              "<Figure size 432x288 with 1 Axes>"
            ]
          },
          "metadata": {
            "tags": []
          }
        }
      ]
    },
    {
      "cell_type": "code",
      "metadata": {
        "id": "d_R1gSX2jaPb",
        "colab_type": "code",
        "colab": {
          "base_uri": "https://localhost:8080/",
          "height": 581
        },
        "outputId": "0561a2e9-2227-4198-9169-fb74cc4e9150"
      },
      "source": [
        "# First we define the structure of the neural network\n",
        "model = tf.keras.models.Sequential([\n",
        "  tf.keras.layers.Flatten(input_shape=(28, 28)),\n",
        "  tf.keras.layers.Dense(512, activation=tf.nn.relu),\n",
        "  tf.keras.layers.Dropout(0.2),\n",
        "  tf.keras.layers.Dense(10, activation=tf.nn.softmax)\n",
        "])\n",
        "model.compile(optimizer='adam',\n",
        "              loss='sparse_categorical_crossentropy',\n",
        "              metrics=['accuracy'])\n",
        "model.summary()\n",
        "model.fit(x_train, y_train, epochs=5)\n",
        "model.evaluate(x_test, y_test)"
      ],
      "execution_count": 2,
      "outputs": [
        {
          "output_type": "stream",
          "text": [
            "WARNING: Logging before flag parsing goes to stderr.\n",
            "W0802 05:56:55.310997 140541773711232 deprecation.py:506] From /usr/local/lib/python3.6/dist-packages/tensorflow/python/ops/init_ops.py:1251: calling VarianceScaling.__init__ (from tensorflow.python.ops.init_ops) with dtype is deprecated and will be removed in a future version.\n",
            "Instructions for updating:\n",
            "Call initializer instance with the dtype argument instead of passing it to the constructor\n"
          ],
          "name": "stderr"
        },
        {
          "output_type": "stream",
          "text": [
            "Model: \"sequential\"\n",
            "_________________________________________________________________\n",
            "Layer (type)                 Output Shape              Param #   \n",
            "=================================================================\n",
            "flatten (Flatten)            (None, 784)               0         \n",
            "_________________________________________________________________\n",
            "dense (Dense)                (None, 512)               401920    \n",
            "_________________________________________________________________\n",
            "dropout (Dropout)            (None, 512)               0         \n",
            "_________________________________________________________________\n",
            "dense_1 (Dense)              (None, 10)                5130      \n",
            "=================================================================\n",
            "Total params: 407,050\n",
            "Trainable params: 407,050\n",
            "Non-trainable params: 0\n",
            "_________________________________________________________________\n",
            "Epoch 1/5\n",
            "60000/60000 [==============================] - 9s 152us/sample - loss: 0.2202 - acc: 0.9355\n",
            "Epoch 2/5\n",
            "60000/60000 [==============================] - 9s 147us/sample - loss: 0.0960 - acc: 0.9701\n",
            "Epoch 3/5\n",
            "60000/60000 [==============================] - 9s 147us/sample - loss: 0.0686 - acc: 0.9783\n",
            "Epoch 4/5\n",
            "60000/60000 [==============================] - 9s 146us/sample - loss: 0.0530 - acc: 0.9832\n",
            "Epoch 5/5\n",
            "60000/60000 [==============================] - 9s 142us/sample - loss: 0.0439 - acc: 0.9851\n",
            "10000/10000 [==============================] - 1s 61us/sample - loss: 0.0697 - acc: 0.9804\n"
          ],
          "name": "stdout"
        },
        {
          "output_type": "execute_result",
          "data": {
            "text/plain": [
              "[0.06974963880805299, 0.9804]"
            ]
          },
          "metadata": {
            "tags": []
          },
          "execution_count": 2
        }
      ]
    },
    {
      "cell_type": "markdown",
      "metadata": {
        "id": "YoQ2Qgi6ge1y",
        "colab_type": "text"
      },
      "source": [
        "# Fashion MNIST datset"
      ]
    },
    {
      "cell_type": "code",
      "metadata": {
        "id": "35-d4CCpgeJt",
        "colab_type": "code",
        "colab": {
          "base_uri": "https://localhost:8080/",
          "height": 320
        },
        "outputId": "6f46c4e0-698e-4819-950a-7c69931b962a"
      },
      "source": [
        "\n",
        "fashion_mnist = tf.keras.datasets.fashion_mnist # Keras is a set of deep learning APIs that tries to provide a unified API interface for deep learning.\n",
        "# Load the fashion_MNIST dataset using the inbuilt functionality available in keras.\n",
        "\n",
        "(x_train_fm, y_train_fm),(x_test_fm, y_test_fm) = fashion_mnist.load_data()\n",
        "x_train_fm, x_test_fm = x_train_fm / 255.0, x_test_fm / 255.0\n",
        "\n",
        "print(\"Training set size = \", x_train_fm.shape)\n",
        "print(\"Test set size = \", x_test_fm.shape)\n",
        "index = 1\n",
        "plt.imshow(x_train_fm[index],cmap='gray')\n",
        "\n"
      ],
      "execution_count": 3,
      "outputs": [
        {
          "output_type": "stream",
          "text": [
            "Training set size =  (60000, 28, 28)\n",
            "Test set size =  (10000, 28, 28)\n"
          ],
          "name": "stdout"
        },
        {
          "output_type": "execute_result",
          "data": {
            "text/plain": [
              "<matplotlib.image.AxesImage at 0x7fd24ad2c780>"
            ]
          },
          "metadata": {
            "tags": []
          },
          "execution_count": 3
        },
        {
          "output_type": "display_data",
          "data": {
            "image/png": "[encoded data removed]",
            "text/plain": [
              "<Figure size 432x288 with 1 Axes>"
            ]
          },
          "metadata": {
            "tags": []
          }
        }
      ]
    },
    {
      "cell_type": "code",
      "metadata": {
        "id": "Eu4-qK4Cjc9S",
        "colab_type": "code",
        "colab": {
          "base_uri": "https://localhost:8080/",
          "height": 221
        },
        "outputId": "219b1239-13f8-41c0-ef2a-edfa3121eab7"
      },
      "source": [
        "\n",
        "model.fit(x_train_fm, y_train_fm, epochs=5)\n",
        "model.evaluate(x_test_fm, y_test_fm)"
      ],
      "execution_count": 4,
      "outputs": [
        {
          "output_type": "stream",
          "text": [
            "Epoch 1/5\n",
            "60000/60000 [==============================] - 8s 137us/sample - loss: 0.5240 - acc: 0.8175\n",
            "Epoch 2/5\n",
            "60000/60000 [==============================] - 8s 140us/sample - loss: 0.3863 - acc: 0.8586\n",
            "Epoch 3/5\n",
            "60000/60000 [==============================] - 8s 138us/sample - loss: 0.3523 - acc: 0.8690\n",
            "Epoch 4/5\n",
            "60000/60000 [==============================] - 8s 138us/sample - loss: 0.3307 - acc: 0.8781\n",
            "Epoch 5/5\n",
            "60000/60000 [==============================] - 8s 137us/sample - loss: 0.3186 - acc: 0.8818\n",
            "10000/10000 [==============================] - 1s 54us/sample - loss: 0.3473 - acc: 0.8759\n"
          ],
          "name": "stdout"
        },
        {
          "output_type": "execute_result",
          "data": {
            "text/plain": [
              "[0.34731047382354735, 0.8759]"
            ]
          },
          "metadata": {
            "tags": []
          },
          "execution_count": 4
        }
      ]
    },
    {
      "cell_type": "markdown",
      "metadata": {
        "id": "owoTNibdlpDK",
        "colab_type": "text"
      },
      "source": [
        "# Eurosat Dataset\n",
        "Eurosat is a satellite image dataset for different land use labels. The aim is to classify an image to its correct land use label.\n",
        "\n",
        "The source of the dataset : http://madm.dfki.de/downloads"
      ]
    },
    {
      "cell_type": "code",
      "metadata": {
        "id": "UHBTuYO5ltw2",
        "colab_type": "code",
        "colab": {}
      },
      "source": [
        "import numpy as np\n",
        "import pandas as pd\n",
        "import matplotlib.pyplot as plt\n",
        "import os\n",
        "import zipfile # import module to unzip the data\n",
        "import cv2"
      ],
      "execution_count": 0,
      "outputs": []
    },
    {
      "cell_type": "code",
      "metadata": {
        "id": "3TWfAX-Clxyk",
        "colab_type": "code",
        "colab": {}
      },
      "source": [
        "os.system(\"wget -N 'http://madm.dfki.de/files/sentinel/EuroSAT.zip'\")\n",
        "zf = zipfile.ZipFile(\"EuroSAT.zip\")\n",
        "zf.extractall()"
      ],
      "execution_count": 0,
      "outputs": []
    },
    {
      "cell_type": "code",
      "metadata": {
        "id": "_OnGvKizl8j7",
        "colab_type": "code",
        "colab": {
          "base_uri": "https://localhost:8080/",
          "height": 493
        },
        "outputId": "3cd60f9e-f85d-4ece-fc99-b5549c52d105"
      },
      "source": [
        "main_dir = '2750'\n",
        "folder_list = os.listdir(main_dir)\n",
        "image_list=[]\n",
        "for folder in folder_list:\n",
        "  file_list = os.listdir(main_dir+'/'+folder)\n",
        "  print(file_list[:5])\n",
        "test_image = cv2.imread('2750/PermanentCrop/PermanentCrop_395.jpg')\n",
        "print(test_image.shape)\n",
        "plt.imshow(cv2.cvtColor(test_image, cv2.COLOR_BGR2RGB))"
      ],
      "execution_count": 7,
      "outputs": [
        {
          "output_type": "stream",
          "text": [
            "['Highway_2018.jpg', 'Highway_1317.jpg', 'Highway_1818.jpg', 'Highway_453.jpg', 'Highway_286.jpg']\n",
            "['SeaLake_1292.jpg', 'SeaLake_404.jpg', 'SeaLake_1563.jpg', 'SeaLake_149.jpg', 'SeaLake_1613.jpg']\n",
            "['Industrial_2396.jpg', 'Industrial_824.jpg', 'Industrial_1234.jpg', 'Industrial_1900.jpg', 'Industrial_202.jpg']\n",
            "['HerbaceousVegetation_921.jpg', 'HerbaceousVegetation_1509.jpg', 'HerbaceousVegetation_2385.jpg', 'HerbaceousVegetation_1607.jpg', 'HerbaceousVegetation_2452.jpg']\n",
            "['Residential_88.jpg', 'Residential_2073.jpg', 'Residential_601.jpg', 'Residential_44.jpg', 'Residential_140.jpg']\n",
            "['PermanentCrop_6.jpg', 'PermanentCrop_496.jpg', 'PermanentCrop_328.jpg', 'PermanentCrop_2187.jpg', 'PermanentCrop_722.jpg']\n",
            "['River_724.jpg', 'River_1995.jpg', 'River_1736.jpg', 'River_1095.jpg', 'River_1946.jpg']\n",
            "['AnnualCrop_514.jpg', 'AnnualCrop_248.jpg', 'AnnualCrop_237.jpg', 'AnnualCrop_2212.jpg', 'AnnualCrop_1116.jpg']\n",
            "['Forest_2709.jpg', 'Forest_2413.jpg', 'Forest_1598.jpg', 'Forest_1615.jpg', 'Forest_1154.jpg']\n",
            "['Pasture_907.jpg', 'Pasture_1102.jpg', 'Pasture_740.jpg', 'Pasture_1172.jpg', 'Pasture_707.jpg']\n",
            "(64, 64, 3)\n"
          ],
          "name": "stdout"
        },
        {
          "output_type": "execute_result",
          "data": {
            "text/plain": [
              "<matplotlib.image.AxesImage at 0x7fd223fd60b8>"
            ]
          },
          "metadata": {
            "tags": []
          },
          "execution_count": 7
        },
        {
          "output_type": "display_data",
          "data": {
            "image/png": "[encoded data removed]",
            "text/plain": [
              "<Figure size 432x288 with 1 Axes>"
            ]
          },
          "metadata": {
            "tags": []
          }
        }
      ]
    },
    {
      "cell_type": "code",
      "metadata": {
        "id": "JDRsKUuxo4xR",
        "colab_type": "code",
        "colab": {}
      },
      "source": [
        "num_images_per_class = 1000\n",
        "\n",
        "main_dir = '2750'\n",
        "folder_list = os.listdir(main_dir)\n",
        "image_list=[]\n",
        "image_list_3D=[]\n",
        "label_list=[]\n",
        "label=-1\n",
        "for folder in folder_list:\n",
        "  file_list = os.listdir(main_dir+'/'+folder)\n",
        "  count=0\n",
        "  for file_name in file_list:\n",
        "    if(count<num_images_per_class):\n",
        "      if(count==0): label+=1 \n",
        "      label_list.append(label)\n",
        "      count+=1\n",
        "      full_file_name=main_dir+'/'+folder+'/'+file_name\n",
        "      image = cv2.imread(full_file_name)\n",
        "      #image = cv2.resize(image,(32,32))\n",
        "      image_list.append(image.flatten().astype('float32')/255)\n",
        "      image_list_3D.append(image.astype('float32')/255)"
      ],
      "execution_count": 0,
      "outputs": []
    },
    {
      "cell_type": "code",
      "metadata": {
        "id": "oZwpYAmhph0q",
        "colab_type": "code",
        "colab": {
          "base_uri": "https://localhost:8080/",
          "height": 34
        },
        "outputId": "190ca96d-b8bc-4a73-8419-04b836e197a5"
      },
      "source": [
        "from sklearn.model_selection import train_test_split # we will split the available data into training and test data for validating the model\n",
        "\n",
        "x_data_3D = image_list_3D #  image data as \n",
        "y_data = label_list\n",
        "\n",
        "#x_data = scaler.fit_transform(x_data) # normalize data\n",
        "\n",
        "x_train_3D, x_test_3D, y_train, y_test = train_test_split(x_data_3D, y_data, test_size=0.4,random_state=42)\n",
        "\n",
        "x_train_3D = np.array(x_train_3D).reshape(-1,64, 64, 3)   #Reshape for CNN -  should work!!\n",
        "x_test_3D = np.array(x_test_3D).reshape(-1,64, 64, 3)\n",
        "\n",
        "from keras.utils import to_categorical\n",
        "y_train_cat = to_categorical(y_train)\n",
        "y_test_cat = to_categorical(y_test)"
      ],
      "execution_count": 9,
      "outputs": [
        {
          "output_type": "stream",
          "text": [
            "Using TensorFlow backend.\n"
          ],
          "name": "stderr"
        }
      ]
    },
    {
      "cell_type": "markdown",
      "metadata": {
        "id": "-WQx8OVsvrgK",
        "colab_type": "text"
      },
      "source": [
        "## Using the simple 3-layer neural network for Eurosat data "
      ]
    },
    {
      "cell_type": "code",
      "metadata": {
        "id": "nRTfJ8pcpD_7",
        "colab_type": "code",
        "colab": {
          "base_uri": "https://localhost:8080/",
          "height": 493
        },
        "outputId": "f1932844-cbb3-4d80-88ac-d4b7d428b7e0"
      },
      "source": [
        "model_eurosat = tf.keras.models.Sequential([\n",
        "  tf.keras.layers.Flatten(input_shape=(64, 64,3)),\n",
        "  tf.keras.layers.Dense(512, activation=tf.nn.relu),\n",
        "  tf.keras.layers.Dropout(0.2),\n",
        "  tf.keras.layers.Dense(10, activation=tf.nn.softmax)\n",
        "])\n",
        "model_eurosat.compile(optimizer='adam',\n",
        "              loss='sparse_categorical_crossentropy',\n",
        "              metrics=['accuracy'])\n",
        "model_eurosat.summary()\n",
        "model_eurosat.fit(x_train_3D, y_train, epochs=5)\n",
        "model_eurosat.evaluate(x_test_3D, y_test)"
      ],
      "execution_count": 10,
      "outputs": [
        {
          "output_type": "stream",
          "text": [
            "Model: \"sequential_1\"\n",
            "_________________________________________________________________\n",
            "Layer (type)                 Output Shape              Param #   \n",
            "=================================================================\n",
            "flatten_1 (Flatten)          (None, 12288)             0         \n",
            "_________________________________________________________________\n",
            "dense_2 (Dense)              (None, 512)               6291968   \n",
            "_________________________________________________________________\n",
            "dropout_1 (Dropout)          (None, 512)               0         \n",
            "_________________________________________________________________\n",
            "dense_3 (Dense)              (None, 10)                5130      \n",
            "=================================================================\n",
            "Total params: 6,297,098\n",
            "Trainable params: 6,297,098\n",
            "Non-trainable params: 0\n",
            "_________________________________________________________________\n",
            "Epoch 1/5\n",
            "6000/6000 [==============================] - 8s 1ms/sample - loss: 2.5657 - acc: 0.2012\n",
            "Epoch 2/5\n",
            "6000/6000 [==============================] - 8s 1ms/sample - loss: 1.8960 - acc: 0.2430\n",
            "Epoch 3/5\n",
            "6000/6000 [==============================] - 8s 1ms/sample - loss: 1.8311 - acc: 0.2867\n",
            "Epoch 4/5\n",
            "6000/6000 [==============================] - 8s 1ms/sample - loss: 1.8047 - acc: 0.2938\n",
            "Epoch 5/5\n",
            "6000/6000 [==============================] - 8s 1ms/sample - loss: 1.7674 - acc: 0.3152\n",
            "4000/4000 [==============================] - 2s 408us/sample - loss: 1.6868 - acc: 0.3575\n"
          ],
          "name": "stdout"
        },
        {
          "output_type": "execute_result",
          "data": {
            "text/plain": [
              "[1.6867974586486816, 0.3575]"
            ]
          },
          "metadata": {
            "tags": []
          },
          "execution_count": 10
        }
      ]
    },
    {
      "cell_type": "markdown",
      "metadata": {
        "id": "rYFfn9Ruw7e7",
        "colab_type": "text"
      },
      "source": [
        "##  Convolution neural network (CNN) for image classification\n",
        "We will now try to use a more complex neural network structure to classify the images. We see significant improvement in  accuracy for the new model. This suggests that different problems require different neural networks.\n",
        "\n",
        "Source of CNN - https://github.com/fchollet/deep-learning-with-python-notebooks/blob/master/5.2-using-convnets-with-small-datasets.ipynb\n",
        "\n",
        "A better solution (99% accuracy) based on a more complex network is available here - https://github.com/reidfalconer/landcover_classification\n"
      ]
    },
    {
      "cell_type": "code",
      "metadata": {
        "id": "b-tIAAlZslao",
        "colab_type": "code",
        "colab": {}
      },
      "source": [
        "model_conv2D = tf.keras.models.Sequential()\n",
        "model_conv2D.add(tf.keras.layers.Conv2D(32, (3, 3), activation='relu',\n",
        "                        input_shape=(64, 64, 3)))\n",
        "model_conv2D.add(tf.keras.layers.MaxPooling2D((2, 2)))\n",
        "model_conv2D.add(tf.keras.layers.Conv2D(64, (3, 3), activation='relu'))\n",
        "model_conv2D.add(tf.keras.layers.MaxPooling2D((2, 2)))\n",
        "model_conv2D.add(tf.keras.layers.Conv2D(128, (3, 3), activation='relu'))\n",
        "model_conv2D.add(tf.keras.layers.MaxPooling2D((2, 2)))\n",
        "model_conv2D.add(tf.keras.layers.Conv2D(128, (3, 3), activation='relu'))\n",
        "model_conv2D.add(tf.keras.layers.MaxPooling2D((2, 2)))\n",
        "model_conv2D.add(tf.keras.layers.Flatten())\n",
        "model_conv2D.add(tf.keras.layers.Dense(512, activation='relu'))\n",
        "model_conv2D.add(tf.keras.layers.Dense(10, activation=tf.nn.softmax))"
      ],
      "execution_count": 0,
      "outputs": []
    },
    {
      "cell_type": "code",
      "metadata": {
        "id": "GG9Jf7BttNOE",
        "colab_type": "code",
        "colab": {
          "base_uri": "https://localhost:8080/",
          "height": 527
        },
        "outputId": "5d636ca9-742e-4200-9c15-fa69d7de4913"
      },
      "source": [
        "model_conv2D.compile(optimizer='adam',\n",
        "              loss='sparse_categorical_crossentropy',\n",
        "              metrics=['accuracy'])\n",
        "model_conv2D.summary()\n"
      ],
      "execution_count": 12,
      "outputs": [
        {
          "output_type": "stream",
          "text": [
            "Model: \"sequential_2\"\n",
            "_________________________________________________________________\n",
            "Layer (type)                 Output Shape              Param #   \n",
            "=================================================================\n",
            "conv2d (Conv2D)              (None, 62, 62, 32)        896       \n",
            "_________________________________________________________________\n",
            "max_pooling2d (MaxPooling2D) (None, 31, 31, 32)        0         \n",
            "_________________________________________________________________\n",
            "conv2d_1 (Conv2D)            (None, 29, 29, 64)        18496     \n",
            "_________________________________________________________________\n",
            "max_pooling2d_1 (MaxPooling2 (None, 14, 14, 64)        0         \n",
            "_________________________________________________________________\n",
            "conv2d_2 (Conv2D)            (None, 12, 12, 128)       73856     \n",
            "_________________________________________________________________\n",
            "max_pooling2d_2 (MaxPooling2 (None, 6, 6, 128)         0         \n",
            "_________________________________________________________________\n",
            "conv2d_3 (Conv2D)            (None, 4, 4, 128)         147584    \n",
            "_________________________________________________________________\n",
            "max_pooling2d_3 (MaxPooling2 (None, 2, 2, 128)         0         \n",
            "_________________________________________________________________\n",
            "flatten_2 (Flatten)          (None, 512)               0         \n",
            "_________________________________________________________________\n",
            "dense_4 (Dense)              (None, 512)               262656    \n",
            "_________________________________________________________________\n",
            "dense_5 (Dense)              (None, 10)                5130      \n",
            "=================================================================\n",
            "Total params: 508,618\n",
            "Trainable params: 508,618\n",
            "Non-trainable params: 0\n",
            "_________________________________________________________________\n"
          ],
          "name": "stdout"
        }
      ]
    },
    {
      "cell_type": "code",
      "metadata": {
        "id": "8cl34iCVvIAk",
        "colab_type": "code",
        "colab": {
          "base_uri": "https://localhost:8080/",
          "height": 221
        },
        "outputId": "251a5f8f-9bf0-4745-c24d-8fe1fc491a02"
      },
      "source": [
        "model_conv2D.fit(x_train_3D, y_train, epochs=5)\n",
        "model_conv2D.evaluate(x_test_3D, y_test)"
      ],
      "execution_count": 13,
      "outputs": [
        {
          "output_type": "stream",
          "text": [
            "Epoch 1/5\n",
            "6000/6000 [==============================] - 43s 7ms/sample - loss: 1.6494 - acc: 0.3317\n",
            "Epoch 2/5\n",
            "6000/6000 [==============================] - 43s 7ms/sample - loss: 1.2560 - acc: 0.5112\n",
            "Epoch 3/5\n",
            "6000/6000 [==============================] - 43s 7ms/sample - loss: 1.0463 - acc: 0.6170\n",
            "Epoch 4/5\n",
            "6000/6000 [==============================] - 43s 7ms/sample - loss: 0.9499 - acc: 0.6598\n",
            "Epoch 5/5\n",
            "6000/6000 [==============================] - 43s 7ms/sample - loss: 0.8748 - acc: 0.6855\n",
            "4000/4000 [==============================] - 8s 2ms/sample - loss: 0.7408 - acc: 0.7433\n"
          ],
          "name": "stdout"
        },
        {
          "output_type": "execute_result",
          "data": {
            "text/plain": [
              "[0.7407881898880004, 0.74325]"
            ]
          },
          "metadata": {
            "tags": []
          },
          "execution_count": 13
        }
      ]
    }
  ]
}