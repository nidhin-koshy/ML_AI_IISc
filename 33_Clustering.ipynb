{
  "nbformat": 4,
  "nbformat_minor": 0,
  "metadata": {
    "colab": {
      "name": "33_Clustering.ipynb",
      "version": "0.3.2",
      "provenance": [],
      "include_colab_link": true
    },
    "kernelspec": {
      "name": "python3",
      "display_name": "Python 3"
    }
  },
  "cells": [
    {
      "cell_type": "markdown",
      "metadata": {
        "id": "view-in-github",
        "colab_type": "text"
      },
      "source": [
        "<a href=\"https://colab.research.google.com/github/nidhin-koshy/ML_AI_IISc/blob/master/33_Clustering.ipynb\" target=\"_parent\"><img src=\"https://colab.research.google.com/assets/colab-badge.svg\" alt=\"Open In Colab\"/></a>"
      ]
    },
    {
      "cell_type": "markdown",
      "metadata": {
        "id": "YQmB0dnYYDs3",
        "colab_type": "text"
      },
      "source": [
        "# Clustering\n",
        "\n",
        " Clustering is a non-supervised learning task, where the aim is to group the samples in to distinct clusters. \n",
        " \n",
        " In this module we will look at two popular clustering techniques - 1) K-means algorithm, and 2) spectral clustering  methods."
      ]
    },
    {
      "cell_type": "markdown",
      "metadata": {
        "id": "dhKIRriC5njp",
        "colab_type": "text"
      },
      "source": [
        "## K-means algorithm\n",
        "\n",
        "K-means algorithm partitions the input samples in to K clusters. It is a simple clustering technique which works well for convex and isotropic clusters. K-means does not work well for irregular shaped clusters. It is an iterative algorithm that tries to find the optimum cluster centroids such that the intra-cluster distances from the centroids (also known as inertia ) are minimized. With each iteration the inertia is reduced and hence the algorithm is bound to converge, at least to a local minima. The problem with convergence to a local minima can be addressed by running the algorithm multiple times with different initializations for the centroids and choosing the best run. We now provide a high-level description of the K-means algorithm.\n",
        "\n",
        "     K-means(input_samples,num_clusters)\n",
        "       centroids = initialize_centroids(num_clusters)\n",
        "       while(centriods not converged)\n",
        "         labels = assign_new_labels(input_samples, centroids)\n",
        "         centroids = compute_new_centroids(input_samples,labels)\n",
        "       end while"
      ]
    },
    {
      "cell_type": "code",
      "metadata": {
        "id": "fHO7qntVX-JO",
        "colab_type": "code",
        "colab": {}
      },
      "source": [
        "#import required modules\n",
        "import numpy as np\n",
        "import pandas as pd\n",
        "import matplotlib.pyplot as plt"
      ],
      "execution_count": 0,
      "outputs": []
    },
    {
      "cell_type": "markdown",
      "metadata": {
        "id": "Eb8_xBdrJ_vu",
        "colab_type": "text"
      },
      "source": [
        "### Generate synthetic cluster data points"
      ]
    },
    {
      "cell_type": "code",
      "metadata": {
        "id": "ZjKlVLas-xe4",
        "colab_type": "code",
        "outputId": "382ea7ea-9e95-48b2-94c4-3a3d61699a80",
        "colab": {
          "base_uri": "https://localhost:8080/",
          "height": 295
        }
      },
      "source": [
        "#generate data points for clustering\n",
        "#generate isotropic Gaussian distributed clusters\n",
        "num_x1_samples = 100 # number of samples from Class 1\n",
        "num_x2_samples = 100 # number of samples from Class 2\n",
        "theta_rot = (-np.pi)/4\n",
        "sigma_1 = 1\n",
        "sigma_2 = 10\n",
        "rot_mat = np.array([[np.cos(theta_rot), -np.sin(theta_rot)],[np.sin(theta_rot), np.cos(theta_rot)]])\n",
        "cov_sqrt = np.array([[sigma_1,0],[0,sigma_2]])\n",
        "comb_mat = np.matmul(rot_mat,cov_sqrt).T\n",
        "\n",
        "mu_1 = np.array([[4,-4]]).T # Mean of the points in Class 1\n",
        "mu_2 = np.array([[-4,4]]).T # Mean of the points in Class 2\n",
        "\n",
        "x1 = np.random.randn(num_x1_samples,2)  # Generate num_x1_samples points for Class 1, with mean of mu_1\n",
        "y1 = np.ones((num_x1_samples,1)) # Assign a label of +1 to the samples from Class 1\n",
        "x1=np.matmul(x1,comb_mat)+ mu_1.T\n",
        "\n",
        "x2 = np.random.randn(num_x2_samples,2) # Generate num_x2_samples points for Class 2, with mean of mu_2\n",
        "y2 = -1*np.ones((num_x2_samples,1)) # Assign a label of -1 to the samples from Class 2\n",
        "x2=np.matmul(x2,comb_mat)+ mu_2.T \n",
        "\n",
        "x_train = np.concatenate((x1,x2),axis=0) # The training data will be a mix of the samples from Class 1 and Class 2. Here we are stacking the rows on top of each other\n",
        "y_train = np.concatenate((y1,y2),axis=0) # Just as the sample points were concatenated, we need to concatenate the labels\n",
        "\n",
        "#Shuffle training samples. The samples we obtain in practise might be in random order.\n",
        "perm = np.random.permutation(y_train.size)\n",
        "\n",
        "x_train = x_train[perm,:]\n",
        "y_train = y_train[perm,:]\n",
        "\n",
        "\n",
        "\n",
        "plt.plot(x1[:,0],x1[:,1],'.b')\n",
        "plt.plot(x2[:,0],x2[:,1],'.r')\n",
        "plt.grid()\n",
        "plt.title(\"Training samples.\")\n",
        "plt.xlabel(\"x[0]\")\n",
        "plt.ylabel(\"x[1]\")\n",
        "plt.show()\n"
      ],
      "execution_count": 0,
      "outputs": [
        {
          "output_type": "display_data",
          "data": {
            "image/png": "[encoded data removed]",
            "text/plain": [
              "<Figure size 432x288 with 1 Axes>"
            ]
          },
          "metadata": {
            "tags": []
          }
        }
      ]
    },
    {
      "cell_type": "markdown",
      "metadata": {
        "id": "iMr6GpFXKGZt",
        "colab_type": "text"
      },
      "source": [
        "### Define required functions"
      ]
    },
    {
      "cell_type": "code",
      "metadata": {
        "id": "QuLiHq4tAA7k",
        "colab_type": "code",
        "colab": {}
      },
      "source": [
        "def initialize_centroids(input_samples,num_clusters):\n",
        " random_indices = np.random.randint(0,input_samples.shape[0],num_clusters)\n",
        " centroids = input_samples[random_indices,:]\n",
        " return centroids\n",
        "\n",
        "def assign_new_labels(input_samples,centroids):\n",
        "  distance_centroids=np.zeros((input_samples.shape[0],centroids.shape[0])) #initialize all distances to zeros\n",
        "  count = 0\n",
        "  for centroid in centroids:\n",
        "    diff = input_samples - centroid\n",
        "    distance = np.linalg.norm(diff,axis=1)\n",
        "    distance_centroids[:,count] = distance\n",
        "    count+=1\n",
        "  labels = np.argmin(distance_centroids,axis=1)\n",
        "  return labels\n",
        "\n",
        "def inertia(input_samples,centroids,labels):\n",
        "  inertia=0\n",
        "  centroid_count = 0\n",
        "  for centroid in centroids:\n",
        "    diff = input_samples[labels==centroid_count] - centroid\n",
        "    inertia+=np.sum(np.linalg.norm(diff,axis=1))\n",
        "  return inertia/labels.size #average inertia\n",
        "\n",
        "def compute_new_centroids(input_samples,labels,num_clusters):\n",
        "  centroids=np.zeros((num_clusters,input_samples.shape[1]))  \n",
        "  for count in np.arange(num_clusters):\n",
        "    new_centroid = np.mean(input_samples[labels==count],axis=0)\n",
        "    centroids[count,:]= new_centroid\n",
        "    #print(\"count_compute_new_centroids = \",count, \".centroids = \", centroids)\n",
        "  return centroids\n",
        "  \n",
        "\n",
        "def K_means_algo(input_samples,num_clusters,convergence_criteria=0.001):\n",
        "  #print(\"input_samples = \",input_samples.shape, \". num_clusters = \",num_clusters)\n",
        "  centroids_evol=np.zeros((num_clusters,input_samples.shape[1],1)) #variable to track evolution of centroids\n",
        "  temp = np.zeros((num_clusters,input_samples.shape[1],1)) # temporary variable to enable appending of centroids_evol\n",
        "  centroids=initialize_centroids(input_samples,num_clusters) #initialize the centroids\n",
        "  centroids_evol[:,:,0] = centroids\n",
        "  #print(\"initial centroids =\",centroids)\n",
        "  labels=assign_new_labels(input_samples,centroids) # assign cluster label for each input sample\n",
        "  inertia_current = inertia(input_samples,centroids,labels) # compute total inertia for the current centroids\n",
        "  inertia_prev = inertia_current+convergence_criteria+1 # +1 is added so that we enter the while loop for the first time\n",
        "  count = 0\n",
        "  #print(\"initial labels = \", labels[:5])\n",
        "  while(abs(inertia_prev-inertia_current) > convergence_criteria and (count < 10000)):\n",
        "    count+=1\n",
        "    centroids = compute_new_centroids(input_samples, labels,num_clusters)\n",
        "    temp[:,:,0] = centroids\n",
        "    centroids_evol=np.append(centroids_evol,temp,axis=2) #add the current centroids to centroids_evol\n",
        "    #print(\"count = \",count,\"centroids = \", centroids)\n",
        "    labels = assign_new_labels(input_samples,centroids)\n",
        "    inertia_prev = inertia_current\n",
        "    inertia_current = inertia(input_samples,centroids,labels)\n",
        "  return centroids,labels,centroids_evol"
      ],
      "execution_count": 0,
      "outputs": []
    },
    {
      "cell_type": "markdown",
      "metadata": {
        "id": "Al1iEoBXKKM8",
        "colab_type": "text"
      },
      "source": [
        "### Call main function"
      ]
    },
    {
      "cell_type": "code",
      "metadata": {
        "id": "s__W6A63KODS",
        "colab_type": "code",
        "outputId": "1c656a03-a594-4f82-8133-99ccb0febb44",
        "colab": {
          "base_uri": "https://localhost:8080/",
          "height": 51
        }
      },
      "source": [
        "num_clusters = 2\n",
        "centroids,labels,centroids_evol=K_means_algo(input_samples=x_train,num_clusters=num_clusters)\n",
        "print(\"Centroids = \", centroids)"
      ],
      "execution_count": 0,
      "outputs": [
        {
          "output_type": "stream",
          "text": [
            "Centroids =  [[-6.16317626 -6.29945316]\n",
            " [ 5.61567232  5.77285519]]\n"
          ],
          "name": "stdout"
        }
      ]
    },
    {
      "cell_type": "markdown",
      "metadata": {
        "id": "MMO8scnTdsZ_",
        "colab_type": "text"
      },
      "source": [
        "### Plot results"
      ]
    },
    {
      "cell_type": "code",
      "metadata": {
        "id": "ustEwDAqdoCo",
        "colab_type": "code",
        "outputId": "6754c60c-e3ad-40db-f15f-ecee9c67c178",
        "colab": {
          "base_uri": "https://localhost:8080/",
          "height": 350
        }
      },
      "source": [
        "fig, (axis1,axis2,axis3) = plt.subplots(1,3,figsize=(10,5))\n",
        "axis1.plot(x1[:,0],x1[:,1],'.b')\n",
        "axis1.plot(x2[:,0],x2[:,1],'.r')\n",
        "axis1.grid()\n",
        "axis1.set_title(\"Training samples.\")\n",
        "axis1.set_xlabel(\"x[0]\")\n",
        "axis1.set_ylabel(\"x[1]\")\n",
        "\n",
        "for count in np.arange(num_clusters):\n",
        "  axis2.plot(x_train[labels==count][:,0],x_train[labels==count][:,1],'.')\n",
        "\n",
        "axis2.plot(centroids[:,0],centroids[:,1],'k*')\n",
        "axis2.grid()\n",
        "axis2.set_title(\"Clustered samples.\")\n",
        "axis2.set_xlabel(\"x[0]\")\n",
        "axis2.set_ylabel(\"x[1]\")\n",
        "\n",
        "\n",
        "for evol_count in np.arange(centroids_evol.shape[2]):\n",
        "  for count in np.arange(num_clusters):\n",
        "    axis3.plot(centroids_evol[count,0,evol_count],centroids_evol[count,1,evol_count],'.')\n",
        "axis3.plot(centroids_evol[:,0,0],centroids_evol[:,1,0],'r*')\n",
        "axis3.plot(centroids_evol[:,0,-1],centroids_evol[:,1,-1],'k*')\n",
        "axis3.grid()\n",
        "axis3.set_title(\"Evolution of centroids\")\n",
        "axis3.set_xlabel(\"x[0]\")\n",
        "axis3.set_ylabel(\"x[1]\")\n",
        "axis3.set_xlim(axis2.get_xlim())\n",
        "axis3.set_ylim(axis2.get_ylim())\n",
        "\n",
        "plt.show()"
      ],
      "execution_count": 0,
      "outputs": [
        {
          "output_type": "display_data",
          "data": {
            "image/png": "[encoded data removed]",
            "text/plain": [
              "<Figure size 720x360 with 3 Axes>"
            ]
          },
          "metadata": {
            "tags": []
          }
        }
      ]
    },
    {
      "cell_type": "markdown",
      "metadata": {
        "id": "L5sJ2t-aWRlH",
        "colab_type": "text"
      },
      "source": [
        "### Exercises\n",
        "* Try the k-means algorithm on  non-isotropic clusters\n",
        "* Try varying the number of clusters in data and the num_clusters argument passed to the K-means function"
      ]
    },
    {
      "cell_type": "markdown",
      "metadata": {
        "id": "7yvlbJULhmuu",
        "colab_type": "text"
      },
      "source": [
        "## Spectral Clustering\n",
        "\n",
        "Spectral clustering is a clustering thechnique that maps the input data points to a different space and does the clustering in that space. Spectral techniques are robust to non-isotropic data clusters. We will now describe the algorithm.\n",
        "\n",
        "Let $x_1,x_2, \\ldots, x_n$ be the $n$ data points that need to be clustered. Let $K$ denote the number of clusters to be computed. Let $S \\in \\mathcal{R}^{n\\times n}$ be the similarity matrix with $S_{ij} = S_{ji} \\ge 0$.\n",
        "\n",
        "\n",
        "\n",
        "Let $d_{i} = \\sum_{j=1}^n S_{ij}$ be the degree of node $i$. Let $D = diag(d_i, d_2,\\dots,d_n)$ be the degree matrix.\n",
        "\n",
        "Let $L = D-S$ denote the Laplacian matrix associated with $S$. This is also called the un-normalized Laplacian.\n",
        "\n",
        "### Properties of the Laplacian matrix $L$\n",
        "* For every $f \\in \\mathcal{R}^n$ we have\n",
        "$$f^TLf = \\frac{1}{2} \\sum_{i,j}S_{ij}(f_i - f_j)^2 \\ge 0.$$\n",
        "* $L$ is symmetric and positive semi-definite\n",
        "* The smallest eignvalue of $L$ is zero, and the corresponding eigenvector is the all one vector $\\mathbf{1}.$\n",
        "* $L$ has $n$ non-negative, real-valued eigenvalues = $0\\le \\lambda_1\\le\\lambda_2\\ldots \\le \\lambda_n.$"
      ]
    },
    {
      "cell_type": "markdown",
      "metadata": {
        "id": "wFPi6KxH9sH7",
        "colab_type": "text"
      },
      "source": [
        "  ### Spectral Clustering Algorithm with non-normalized Laplacian:\n",
        "  * Input: Similarity matrix $S \\in \\mathcal{R}^{n\\times n}$, number $k$ of clusters to construct\n",
        "    * Compute the Laplacian $L$\n",
        "    * Compute the first $k$ eigenvectors $u_i, u_2, \\ldots, u_k$ of $L$\n",
        "    * Let $U  = [u_1, u_2, \\ldots, u_k] \\in \\mathcal{R}^{n \\times k}.$\n",
        "    * Let the rows of $U$ be the new data points, i.e., let $y_i$ denote the $i$th row of $U$.\n",
        "    * Find k clusters $C_i, C_2, \\ldots, C_k$ of the new data points $y_1, y_2, \\dots, y_n$ using clustering methods like K-means.\n",
        "  *Output: Clusters $A_1,A_2,\\ldots,A_k$ with $A_i = \\{j | y_j \\in C_i\\}$"
      ]
    },
    {
      "cell_type": "markdown",
      "metadata": {
        "id": "Lq_ZTzNwxQ-O",
        "colab_type": "text"
      },
      "source": [
        "### Implement Spectral Clustering\n",
        "\n",
        "Let $S_{ij} = e^{-\\frac{\\Vert x_i -x_j\\Vert^2}{2\\sigma^2}}$. This is the popular euclidean distance based similarity matrix. Any symmetric matrix with non-negative entries can be used as a similarity matrix."
      ]
    },
    {
      "cell_type": "code",
      "metadata": {
        "id": "3PBZz-hDy0vE",
        "colab_type": "code",
        "colab": {}
      },
      "source": [
        "#Spectral Clustering\n",
        "from scipy.spatial.distance import cdist\n",
        "S_sigma_square = 1\n",
        "dist = cdist(x_train,x_train,metric='euclidean')/(2*S_sigma_square)\n",
        "S = np.exp(-dist)\n",
        "D = np.diag(np.sum(S,axis=1,keepdims=False))\n",
        "L = D-S\n",
        "#print(\"Sum of S = \",np.sum(S,axis=1,keepdims=False)[:5])\n",
        "#print(\"D =\", D[:5,:5])\n",
        "#print(\"S = \",S[:5,:5])\n",
        "#print(\"L = \",L[:5,:5])\n",
        "#print(\"sum L = \",np.sum(L,axis=1,keepdims=False)[:5] )\n",
        "eigenvalues,eigenvectors = np.linalg.eig(L)\n",
        "idx = np.argsort(eigenvalues)   #sort eigenvalues\n",
        "eigenvalues = eigenvalues[idx]\n",
        "#print(\"eigenvalues = \",eigenvalues[:10])\n",
        "eigenvectors = eigenvectors[:,idx] #arrange eigenvectors in sorted order\n",
        "U_k = eigenvectors[:,0:num_clusters]\n",
        "#print(\"U_k = \", U_k[:10,:])\n",
        "centroids_spectral,labels_spectral,centroids_evol_spectral=K_means_algo(input_samples=U_k,num_clusters=num_clusters)"
      ],
      "execution_count": 0,
      "outputs": []
    },
    {
      "cell_type": "code",
      "metadata": {
        "id": "EjX8xhHH2xsG",
        "colab_type": "code",
        "outputId": "af6bfebe-795c-4933-9136-d62a25d59477",
        "colab": {
          "base_uri": "https://localhost:8080/",
          "height": 350
        }
      },
      "source": [
        "#Plot Results\n",
        "fig, (axis1,axis2) = plt.subplots(1,2,figsize=(10,5))\n",
        "axis1.plot(x1[:,0],x1[:,1],'.b')\n",
        "axis1.plot(x2[:,0],x2[:,1],'.r')\n",
        "axis1.grid()\n",
        "axis1.set_title(\"Training samples.\")\n",
        "axis1.set_xlabel(\"x[0]\")\n",
        "axis1.set_ylabel(\"x[1]\")\n",
        "\n",
        "for count in np.arange(num_clusters):\n",
        "  axis2.plot(x_train[labels_spectral==count][:,0],x_train[labels_spectral==count][:,1],'.')\n",
        "\n",
        "#axis2.plot(centroids_spectral[:,0],centroids_spectral[:,1],'k*')\n",
        "axis2.grid()\n",
        "axis2.set_title(\"Clustered samples.\")\n",
        "axis2.set_xlabel(\"x[0]\")\n",
        "axis2.set_ylabel(\"x[1]\")\n",
        "\n",
        "plt.show()"
      ],
      "execution_count": 0,
      "outputs": [
        {
          "output_type": "display_data",
          "data": {
            "image/png": "[encoded data removed]",
            "text/plain": [
              "<Figure size 720x360 with 2 Axes>"
            ]
          },
          "metadata": {
            "tags": []
          }
        }
      ]
    },
    {
      "cell_type": "markdown",
      "metadata": {
        "id": "5cN6clDFWuUX",
        "colab_type": "text"
      },
      "source": [
        "  ### Spectral Clustering Algorithm with normalized Laplacian:\n",
        "  * Input: Similarity matrix $S \\in \\mathcal{R}^{n\\times n}$, number $k$ of clusters to construct\n",
        "    * Compute the Laplacian $L_{norm} = I - D^{-1/2}S D^{-1/2}$\n",
        "    * Compute the first $k$ eigenvectors $u_i, u_2, \\ldots, u_k$ of $L_{norm}$\n",
        "    * Let $U  = [u_1, u_2, \\ldots, u_k] \\in \\mathcal{R}^{n \\times k}.$\n",
        "    * Let the rows of $U$ be the new data points, i.e., let $y_i$ denote the $i$th row of $U$\n",
        "    * Normalize the rows of $U$ to unit norm vectors..\n",
        "    * Find k clusters $C_i, C_2, \\ldots, C_k$ of the new data points $y_1, y_2, \\dots, y_n$ using clustering methods like K-means.\n",
        "  *Output: Clusters $A_1,A_2,\\ldots,A_k$ with $A_i = \\{j | y_j \\in C_i\\}$"
      ]
    },
    {
      "cell_type": "code",
      "metadata": {
        "id": "pA5oWZs6XUWy",
        "colab_type": "code",
        "colab": {}
      },
      "source": [
        "#Spectral Clustering with normlized Laplacian\n",
        "from scipy.spatial.distance import cdist\n",
        "S_sigma_square = 1\n",
        "dist = cdist(x_train,x_train,metric='euclidean')/(2*S_sigma_square)\n",
        "S = np.exp(-dist)\n",
        "diag_vector = np.sum(S,axis=1,keepdims=False)\n",
        "diag_vector_sqrt_inv = 1/np.sqrt(diag_vector)\n",
        "D = np.diag(np.sum(S,axis=1,keepdims=False))\n",
        "D_sqrt_inv = np.diag(diag_vector_sqrt_inv)\n",
        "L = D-S\n",
        "L_norm = np.matmul(D_sqrt_inv,L)\n",
        "L_norm = np.matmul(L_norm,D_sqrt_inv)\n",
        "#print(\"Sum of S = \",np.sum(S,axis=1,keepdims=False)[:5])\n",
        "#print(\"D =\", D[:5,:5])\n",
        "#print(\"S = \",S[:5,:5])\n",
        "#print(\"L_norm = \",L_norm[:5,:5])\n",
        "#print(\"sum L = \",np.sum(L,axis=1,keepdims=False)[:5] )\n",
        "eigenvalues_norm,eigenvectors_norm = np.linalg.eig(L_norm)\n",
        "idx = np.argsort(eigenvalues_norm)   #sort eigenvalues\n",
        "eigenvalues_norm = eigenvalues_norm[idx]\n",
        "#print(\"eigenvalues_norm = \",eigenvalues_norm[:10])\n",
        "eigenvectors_norm = eigenvectors_norm[:,idx] #arrange eigenvectors in sorted order\n",
        "U_k_norm = eigenvectors_norm[:,0:num_clusters]\n",
        "U_k_norm = U_k_norm/np.linalg.norm(U_k_norm,axis=1,keepdims=True)\n",
        "#print(\"U_k_norm = \", U_k_norm[:10,:])\n",
        "centroids_spectral_norm,labels_spectral_norm,centroids_evol_spectral_norm=K_means_algo(input_samples=U_k_norm,num_clusters=num_clusters)"
      ],
      "execution_count": 0,
      "outputs": []
    },
    {
      "cell_type": "code",
      "metadata": {
        "id": "PB_bD0XkZAM7",
        "colab_type": "code",
        "outputId": "54259265-dc7f-4705-dec8-460dc031c3a5",
        "colab": {
          "base_uri": "https://localhost:8080/",
          "height": 350
        }
      },
      "source": [
        "#Plot Results\n",
        "fig, (axis1,axis2) = plt.subplots(1,2,figsize=(10,5))\n",
        "axis1.plot(x1[:,0],x1[:,1],'.b')\n",
        "axis1.plot(x2[:,0],x2[:,1],'.r')\n",
        "axis1.grid()\n",
        "axis1.set_title(\"Training samples.\")\n",
        "axis1.set_xlabel(\"x[0]\")\n",
        "axis1.set_ylabel(\"x[1]\")\n",
        "\n",
        "for count in np.arange(num_clusters):\n",
        "  axis2.plot(x_train[labels_spectral_norm==count][:,0],x_train[labels_spectral_norm==count][:,1],'.')\n",
        "\n",
        "#axis2.plot(centroids_spectral[:,0],centroids_spectral[:,1],'k*')\n",
        "axis2.grid()\n",
        "axis2.set_title(\"Clustered samples.\")\n",
        "axis2.set_xlabel(\"x[0]\")\n",
        "axis2.set_ylabel(\"x[1]\")\n",
        "\n",
        "plt.show()"
      ],
      "execution_count": 0,
      "outputs": [
        {
          "output_type": "display_data",
          "data": {
            "image/png": "[encoded data removed]",
            "text/plain": [
              "<Figure size 720x360 with 2 Axes>"
            ]
          },
          "metadata": {
            "tags": []
          }
        }
      ]
    },
    {
      "cell_type": "markdown",
      "metadata": {
        "id": "Xm9NOKTy5uSr",
        "colab_type": "text"
      },
      "source": [
        "## Exercises\n",
        "* Try to implement K-means and Spectral Clustering using the in-built functions available with Scikit-Learn. The link to the scikit-learn documentation on clustering is given below. "
      ]
    },
    {
      "cell_type": "markdown",
      "metadata": {
        "id": "ylnbymy4V99m",
        "colab_type": "text"
      },
      "source": [
        "## Resources\n",
        "* Scikit Learn documentation for clustering - https://scikit-learn.org/stable/modules/clustering.html\n",
        "* Tutorial on spectral clustering - [here](http://citeseerx.ist.psu.edu/viewdoc/download;jsessionid=E23FB97AFEFB3E59F906B4CED88A98B2?doi=10.1.1.165.9323&rep=rep1&type=pdf)\n"
      ]
    }
  ]
}